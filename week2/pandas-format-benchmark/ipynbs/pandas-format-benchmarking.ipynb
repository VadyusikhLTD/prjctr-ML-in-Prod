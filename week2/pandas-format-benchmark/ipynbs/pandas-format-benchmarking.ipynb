{
 "cells": [
  {
   "cell_type": "code",
   "execution_count": 6,
   "id": "73b8d873-a9b6-4cbf-bf65-a85faa792137",
   "metadata": {},
   "outputs": [],
   "source": [
    "import pandas as pd\n",
    "import pyarrow as pa\n",
    "\n",
    "import numpy as np\n",
    "import random\n",
    "import string\n",
    "import matplotlib.pyplot as plt"
   ]
  },
  {
   "cell_type": "code",
   "execution_count": null,
   "id": "72fc10ed-e244-4e6f-9c08-0b13bdfa6999",
   "metadata": {},
   "outputs": [],
   "source": [
    "string.ascii_letters"
   ]
  },
  {
   "cell_type": "code",
   "execution_count": 20,
   "id": "8c5863db-fc30-4758-a1ab-af6ac765ef1d",
   "metadata": {},
   "outputs": [
    {
     "data": {
      "text/plain": [
       "0.08253781949182015"
      ]
     },
     "execution_count": 20,
     "metadata": {},
     "output_type": "execute_result"
    }
   ],
   "source": [
    "random.random()"
   ]
  },
  {
   "cell_type": "markdown",
   "id": "ed3ec5f0-0691-4eaf-b803-a672d659111c",
   "metadata": {},
   "source": [
    "## Generate data"
   ]
  },
  {
   "cell_type": "code",
   "execution_count": 32,
   "id": "28398211-cdcf-4afe-bf0e-5644a66b4505",
   "metadata": {},
   "outputs": [],
   "source": [
    "def generate_str(string_len=10):\n",
    "    return ''.join(random.choice(string.ascii_letters + string.digits) for _ in range(string_len))\n",
    "\n",
    "def generate_row(types_list): \n",
    "    result = list()\n",
    "    for t, param in types_list:\n",
    "        if t == \"str\": \n",
    "            result += [generate_str(param)]\n",
    "        elif t == \"int\":\n",
    "            result += [random.randint(param[0], param[1])]\n",
    "        elif t == \"float\":\n",
    "            result += [random.random()*param]\n",
    "        else: \n",
    "            raise ValueError('Wrong type')\n",
    "    return result\n",
    "            "
   ]
  },
  {
   "cell_type": "code",
   "execution_count": 43,
   "id": "54c3ac6d-a0e8-4a57-ac78-fd4fb34cb86f",
   "metadata": {},
   "outputs": [
    {
     "data": {
      "text/plain": [
       "('str', 75)"
      ]
     },
     "execution_count": 43,
     "metadata": {},
     "output_type": "execute_result"
    }
   ],
   "source": [
    "table_arc[-1]"
   ]
  },
  {
   "cell_type": "code",
   "execution_count": 46,
   "id": "90ac1c15-aade-4f19-8c43-2e4ca1f6691e",
   "metadata": {
    "tags": []
   },
   "outputs": [],
   "source": [
    "\n",
    "# generated_data"
   ]
  },
  {
   "cell_type": "code",
   "execution_count": null,
   "id": "9e137aea-2b34-4eab-8a86-663f465298fd",
   "metadata": {},
   "outputs": [],
   "source": [
    "CSV write/ read\n",
    "100: 1.31 ms ± 74.1 /1.83 ms ± 110 µs\n",
    "1_000: 6.35 ms ± 516 µs/4.25 ms ± 723 µs\n",
    "10_000: 56.3 ms ± 1.84 ms/22 ms ± 1.03 ms\n",
    "100_000: 563 ms ± 14.5 ms/229 ms ± 17.4 ms / 9Mb\n",
    "1_000_000: "
   ]
  },
  {
   "cell_type": "code",
   "execution_count": 183,
   "id": "6cb1b5af-7e79-46d5-846f-e4c9a15fbe98",
   "metadata": {},
   "outputs": [],
   "source": [
    "benchmarks = dict (\n",
    "    {\"CSV\": \n",
    "     {100: {\"write, ms\": (1.31, 0.074), \"read, ms\": (1.83, 0.110), \"size\": 0.001}, \n",
    "      1_000: {\"write, ms\": (6.35, 0.516), \"read, ms\": (4.25, 0.723), \"size\": 0.093 }, \n",
    "      10_000: {\"write, ms\": (56.3, 1.84), \"read, ms\": (22, 1.03), \"size\": 0.931}, \n",
    "      100_000: {\"write, ms\": (563, 14.5), \"read, ms\": (229, 17.4), \"size\": 9}, \n",
    "      1_000_000: {\"write, ms\": (5690, 283), \"read, ms\": (2110, 67.6), \"size\": 94} }, \n",
    "     \"feather\": \n",
    "     {100: {\"write, ms\": (0.935, 0.080), \"read, ms\":(1.86, 0.103), \"size\": 0.012}, \n",
    "      1_000: {\"write, ms\": (2.08, 0.089), \"read, ms\":  (2.54, 0.285), \"size\": 0.085 }, \n",
    "      10_000: {\"write, ms\": (4.68, 0.64), \"read, ms\":  (8.45, 1.13), \"size\": 0.8}, \n",
    "      100_000: {\"write, ms\": (29.5, 1.53), \"read, ms\":  (86.2, 5.7), \"size\": 8.2}, \n",
    "      1_000_000: {\"write, ms\": (289, 16.6), \"read, ms\":  (1050, 25.7), \"size\": 82} },\n",
    "     \"h5\": \n",
    "     {100: {\"write, ms\": (20.3, 1.1), \"read, ms\":  (10.9, 0.831), \"size\": 1}, \n",
    "      1_000: {\"write, ms\": (20.3, 0.456), \"read, ms\":(11.4, 0.699), \"size\": 1.29}, \n",
    "      10_000: {\"write, ms\": (23.4, 0.593), \"read, ms\":  (18.3, 0.651), \"size\": 1.96}, \n",
    "      100_000: {\"write, ms\": (152, 9.84), \"read, ms\":  (116, 1.8), \"size\": 10.3 }, \n",
    "      1_000_000: {\"write, ms\": (1430, 111), \"read, ms\":  (1010, 21.9), \"size\": 101} },\n",
    "     })"
   ]
  },
  {
   "cell_type": "code",
   "execution_count": 122,
   "id": "6e13fa0b-6092-4b67-9d36-8e180de22c3d",
   "metadata": {},
   "outputs": [
    {
     "data": {
      "text/plain": [
       "100"
      ]
     },
     "execution_count": 122,
     "metadata": {},
     "output_type": "execute_result"
    }
   ],
   "source": [
    "table_arc = [('str', 10), ('int', (-10, 200)), ('float', 5), ]\n",
    "\n",
    "generated_data = [generate_row(table_arc + [('str', random.randint(10, 100))]) \n",
    "                  for _ in range(100)]\n",
    "\n",
    "df = pd.DataFrame(generated_data, columns=['a', 'b', 'c', 'd'])\n",
    "len(df)"
   ]
  },
  {
   "cell_type": "code",
   "execution_count": 96,
   "id": "fbbe23a7-38aa-48d0-b92d-f53622447507",
   "metadata": {},
   "outputs": [
    {
     "data": {
      "text/plain": [
       "1000000"
      ]
     },
     "execution_count": 96,
     "metadata": {},
     "output_type": "execute_result"
    }
   ],
   "source": [
    "# df = pd.read_csv(\"../data/table.csv\")\n",
    "# len(df)"
   ]
  },
  {
   "cell_type": "code",
   "execution_count": 118,
   "id": "ddf4be6d-5b55-4f10-ae9e-4dc745f347a9",
   "metadata": {},
   "outputs": [
    {
     "name": "stdout",
     "output_type": "stream",
     "text": [
      "23.7 ms ± 1.13 ms per loop (mean ± std. dev. of 7 runs, 100 loops each)\n"
     ]
    }
   ],
   "source": [
    "%%timeit -n 10\n",
    "df.to_hdf('../data/data.h5', key='dataset', mode='w')"
   ]
  },
  {
   "cell_type": "code",
   "execution_count": 116,
   "id": "050fbf09-1e8f-40c6-acee-27e408054834",
   "metadata": {},
   "outputs": [
    {
     "name": "stdout",
     "output_type": "stream",
     "text": [
      "10.7 ms ± 710 µs per loop (mean ± std. dev. of 7 runs, 100 loops each)\n"
     ]
    }
   ],
   "source": [
    "%%timeit -n 100\n",
    "df = pd.read_hdf('../data/data.h5')"
   ]
  },
  {
   "cell_type": "code",
   "execution_count": 94,
   "id": "1888f6e4-4dcf-4538-a980-82c66b4a4fc2",
   "metadata": {},
   "outputs": [
    {
     "name": "stdout",
     "output_type": "stream",
     "text": [
      "2.09 ms ± 120 µs per loop (mean ± std. dev. of 7 runs, 200 loops each)\n"
     ]
    }
   ],
   "source": [
    "%%timeit -n 200\n",
    "df.to_feather(\"../data/data.feather\")"
   ]
  },
  {
   "cell_type": "code",
   "execution_count": 92,
   "id": "53b676d9-2350-4ea2-bf12-a713d4687053",
   "metadata": {},
   "outputs": [
    {
     "name": "stdout",
     "output_type": "stream",
     "text": [
      "1.86 ms ± 103 µs per loop (mean ± std. dev. of 7 runs, 200 loops each)\n"
     ]
    }
   ],
   "source": [
    "%%timeit -n 200\n",
    "df = pd.read_feather(\"../data/data.feather\")"
   ]
  },
  {
   "cell_type": "code",
   "execution_count": null,
   "id": "0e38c033-7b0d-41bc-9d01-9553dd7e9392",
   "metadata": {},
   "outputs": [],
   "source": []
  },
  {
   "cell_type": "code",
   "execution_count": 124,
   "id": "c30dc7bd-25ed-455c-bc17-8319ff1ca103",
   "metadata": {},
   "outputs": [
    {
     "name": "stdout",
     "output_type": "stream",
     "text": [
      "2.62 ms ± 263 µs per loop (mean ± std. dev. of 7 runs, 1 loop each)\n"
     ]
    }
   ],
   "source": [
    "%%timeit -n 1\n",
    "df.to_csv(\"../data/table.csv\")"
   ]
  },
  {
   "cell_type": "code",
   "execution_count": 71,
   "id": "6888372f-0c38-4529-abc2-dc438a298369",
   "metadata": {},
   "outputs": [
    {
     "name": "stdout",
     "output_type": "stream",
     "text": [
      "2.11 s ± 67.6 ms per loop (mean ± std. dev. of 7 runs, 1 loop each)\n"
     ]
    }
   ],
   "source": [
    "%%timeit\n",
    "df = pd.read_csv(\"../data/table.csv\")"
   ]
  },
  {
   "cell_type": "code",
   "execution_count": 184,
   "id": "88d97e35-cd1a-4411-ad9e-5c7234c7337e",
   "metadata": {},
   "outputs": [
    {
     "data": {
      "image/png": "[encoded data removed]",
      "text/plain": [
       "<Figure size 432x288 with 1 Axes>"
      ]
     },
     "metadata": {
      "needs_background": "light"
     },
     "output_type": "display_data"
    }
   ],
   "source": [
    "for dt_type, stat in benchmarks.items():\n",
    "    arr_w = np.array([[sz, dt['write, ms'][0]-dt['write, ms'][1], \n",
    "                       dt['write, ms'][0]+dt['write, ms'][1] ]\n",
    "                      for sz, dt in stat.items()])\n",
    "    arr_r = np.array([[sz, dt['size'] ]\n",
    "                      for sz, dt in stat.items()])\n",
    "    arr_w = arr_r\n",
    "\n",
    "    plt.plot(arr_w[:,0], arr_w[:,1], label=dt_type)\n",
    "    plt.plot(arr_w[:,0], arr_w[:,1], 'x')\n",
    "\n",
    "#     plt.fill_between(arr_w[:,0], arr_w[:,1], arr_w[:,2], color='r', alpha=0.2)\n",
    "plt.yscale('log')\n",
    "plt.xscale('log')\n",
    "plt.xlabel(\"Number of rows\")\n",
    "plt.ylabel(\"Operatin speed, ms\")\n",
    "plt.legend()\n",
    "plt.title(\"Tabular data file read seed\")\n",
    "plt.show()"
   ]
  },
  {
   "cell_type": "code",
   "execution_count": 137,
   "id": "63842693-e704-4683-8a47-655cb631e01c",
   "metadata": {},
   "outputs": [
    {
     "data": {
      "text/plain": [
       "dict_items([(100, {'write, ms': (1.31, 0.074), 'read, ms': (1.83, 0.11), 'size': 0.001}), (1000, {'write, ms': (6.35, 0.516), 'read, ms': (4.25, 0.723), 'size': 0.093}), (10000, {'write, ms': (56.3, 1.84), 'read, ms': (22, 1.03), 'size': -0.931}), (100000, {'write, ms': (563, 14.5), 'read, ms': (229, 17.4), 'size': 9}), (1000000, {'write, ms': (5690, 283), 'read, ms': (2110, 67.6), 'size': 94})])"
      ]
     },
     "execution_count": 137,
     "metadata": {},
     "output_type": "execute_result"
    }
   ],
   "source": [
    "benchmarks['CSV'].items()"
   ]
  }
 ],
 "metadata": {
  "kernelspec": {
   "display_name": "Python 3",
   "language": "python",
   "name": "python3"
  },
  "language_info": {
   "codemirror_mode": {
    "name": "ipython",
    "version": 3
   },
   "file_extension": ".py",
   "mimetype": "text/x-python",
   "name": "python",
   "nbconvert_exporter": "python",
   "pygments_lexer": "ipython3",
   "version": "3.8.9"
  }
 },
 "nbformat": 4,
 "nbformat_minor": 5
}
